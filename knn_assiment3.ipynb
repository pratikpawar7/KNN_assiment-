{
 "cells": [
  {
   "cell_type": "code",
   "execution_count": null,
   "id": "b8b2b825-cf66-4531-8158-e4be323b7792",
   "metadata": {},
   "outputs": [],
   "source": [
    "'''\n",
    "Q1. What is a contingency matrix, and how is it used to evaluate the performance of a classification model?\n",
    "'''\n",
    "\n",
    "A contingency matrix (or confusion matrix) shows the counts of actual vs predicted labels in a classification model. \n",
    "It helps evaluate model performance by showing true positives, false positives, true negatives, and false negatives."
   ]
  },
  {
   "cell_type": "code",
   "execution_count": null,
   "id": "b3a4f158-39ea-471f-8185-92962a7f5e2a",
   "metadata": {},
   "outputs": [],
   "source": [
    "'''\n",
    "Q2. How is a pair confusion matrix different from a regular confusion matrix, and why might it be useful in certain situations?\n",
    "'''\n",
    "A pair confusion matrix compares pairs of points and tracks whether they are correctly grouped or misgrouped.\n",
    "Ituseful in clustering, as it evaluates pairs of samples rather than individual predictions.\n"
   ]
  },
  {
   "cell_type": "code",
   "execution_count": null,
   "id": "ff9e5da2-c593-46a4-ae9c-e9b1a3148b1f",
   "metadata": {},
   "outputs": [],
   "source": [
    "'''\n",
    "Q3. What is an extrinsic measure in the context of natural language processing, and how is it typically used to evaluate the performance of language models?\n",
    "'''\n",
    "\n",
    "An extrinsic measure evaluates NLP models based on their performance on a real-world task \n",
    "(e.g., translation or summarization). \n",
    "It reflects how well a model helps achieve specific outcomes."
   ]
  },
  {
   "cell_type": "code",
   "execution_count": null,
   "id": "edd9db09-d4e2-4026-8b48-d21cb552067f",
   "metadata": {},
   "outputs": [],
   "source": [
    "'''\n",
    "Q4. What is an intrinsic measure in the context of machine learning, and how does it differ from an extrinsic measure?\n",
    "'''\n",
    "\n",
    "An intrinsic measure evaluates a model on its internal performance \n",
    "(e.g., perplexity or precision) without considering its real-world task. \n",
    "It different from extrinsic measures, which assess performance in application contexts."
   ]
  },
  {
   "cell_type": "code",
   "execution_count": null,
   "id": "cf09359e-e94d-4a95-bd41-511e2d39a873",
   "metadata": {},
   "outputs": [],
   "source": [
    "'''\n",
    "Q5. What is the purpose of a confusion matrix in machine learning, and how can it be used \n",
    "to identify strengths and weaknesses of a model?\n",
    "'''\n",
    "\n",
    "A confusion matrix shows how well a models predictions align with actual outcomes.\n",
    "It helps identify where the model excels (high true positives/negatives) and where it struggles (false positives/negatives).\n"
   ]
  },
  {
   "cell_type": "code",
   "execution_count": null,
   "id": "74047c45-2c71-43b7-ac02-135797d16b9d",
   "metadata": {},
   "outputs": [],
   "source": [
    "'''\n",
    "Q6. What are some common intrinsic measures used to evaluate the performance of unsupervised \n",
    "learning algorithms, and how can they be interpreted?\n",
    "'''\n",
    "\n",
    "Common intrinsic measures include:\n",
    "\n",
    "Silhouette score (measures cohesion and separation),\n",
    "Davies-Bouldin Index (lower values are better),\n",
    "Inertia (measures within-cluster variance). They help assess clustering quality without needing true labels.\n",
    "\n"
   ]
  },
  {
   "cell_type": "code",
   "execution_count": null,
   "id": "b2981b63-b6c8-477e-b0cb-4ddbf4a4cabb",
   "metadata": {},
   "outputs": [],
   "source": [
    "'''\n",
    "Q7. What are some limitations of using accuracy as a sole evaluation metric for classification tasks, and how can these limitations be addressed?\n",
    "'''\n",
    "\n",
    "Accuracy may be misleading for imbalanced datasets (high accuracy but poor minority\n",
    "class performance).\n",
    "Address this by using metrics like precision, recall, and F1-score for better insights into model performance."
   ]
  },
  {
   "cell_type": "code",
   "execution_count": null,
   "id": "8741205d-b9f7-4b27-a740-ab36d458e236",
   "metadata": {},
   "outputs": [],
   "source": []
  }
 ],
 "metadata": {
  "kernelspec": {
   "display_name": "Python 3 (ipykernel)",
   "language": "python",
   "name": "python3"
  },
  "language_info": {
   "codemirror_mode": {
    "name": "ipython",
    "version": 3
   },
   "file_extension": ".py",
   "mimetype": "text/x-python",
   "name": "python",
   "nbconvert_exporter": "python",
   "pygments_lexer": "ipython3",
   "version": "3.10.2"
  }
 },
 "nbformat": 4,
 "nbformat_minor": 5
}
