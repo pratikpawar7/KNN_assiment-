{
 "cells": [
  {
   "cell_type": "code",
   "execution_count": null,
   "id": "e59fcc2a-296d-4461-94e7-803bb81fe52e",
   "metadata": {},
   "outputs": [],
   "source": [
    "'''\n",
    "Q1. What is anomaly detection and what is its purpose?\n",
    "'''\n",
    "\n",
    "Anomaly detection is the process of identifying data points that deviate fromthe normal pattern. \n",
    "Its purpose is to detect unusual or rare events, which could indicate errors, fraud, or critical events.\n"
   ]
  },
  {
   "cell_type": "code",
   "execution_count": null,
   "id": "a9f6a686-2f32-49e9-9430-9375ee20bdbc",
   "metadata": {},
   "outputs": [],
   "source": [
    "'''\n",
    "Q2. What are the key challenges in anomaly detection?\n",
    "'''\n",
    "\n",
    "Defining \"normal\" behavior\n",
    "Handling imbalanced data\n",
    "High-dimensional data complexity\n",
    "Dealing with noise and missing data\n"
   ]
  },
  {
   "cell_type": "code",
   "execution_count": null,
   "id": "1126abb6-4b03-4a53-a83c-5c35367a036c",
   "metadata": {},
   "outputs": [],
   "source": [
    "'''\n",
    "Q3. How does unsupervised anomaly detection differ from supervised anomaly detection?\n",
    "'''\n",
    "\n",
    "Unsupervised anomaly detection doesn't require labeled data and finds anomalies based on \n",
    "data patterns, while supervised detection uses labeled data (normal vs. anomaly) to train models.\n"
   ]
  },
  {
   "cell_type": "code",
   "execution_count": null,
   "id": "6271a769-7e6a-4c3e-8168-74b9aecacadd",
   "metadata": {},
   "outputs": [],
   "source": [
    "'''\n",
    "Q4. What are the main categories of anomaly detection algorithms?\n",
    "'''\n",
    "\n",
    "Statistical methods: Use probability distributions to detect anomalies. Anomalies are points\n",
    "with low probability under the assumed distribution (e.g., Z-score, Gaussian models).\n",
    "\n",
    "Machine Learning methods:\n",
    "\n",
    "Supervised: Train models with labeled data (normal vs. anomaly) to classify new points (e.g., SVM, neural networks).\n",
    "Unsupervised: No labels are used; patterns are learned from the data itself (e.g., clustering, autoencoders).\n",
    "\n",
    "Distance-based methods: Measure distance between points and detect anomalies as those far from others (e.g., KNN, DBSCAN).\n",
    "\n",
    "Model-based methods: Build a model to represent normal behavior, and points that \n",
    "don't fit the model are anomalies (e.g., Isolation Forest, PCA)."
   ]
  },
  {
   "cell_type": "code",
   "execution_count": null,
   "id": "1b15b16e-8dc3-42b2-af81-6f7d9d7d2341",
   "metadata": {},
   "outputs": [],
   "source": []
  },
  {
   "cell_type": "code",
   "execution_count": null,
   "id": "7abacfcc-74cd-4c30-9280-af030ba7355a",
   "metadata": {},
   "outputs": [],
   "source": []
  },
  {
   "cell_type": "code",
   "execution_count": null,
   "id": "1aa7887c-89c7-43b5-85d3-7e3b36a0c703",
   "metadata": {},
   "outputs": [],
   "source": []
  },
  {
   "cell_type": "code",
   "execution_count": null,
   "id": "68db8c35-03f2-4a0d-b699-a3588c25b15c",
   "metadata": {},
   "outputs": [],
   "source": []
  },
  {
   "cell_type": "code",
   "execution_count": null,
   "id": "c70b2c1d-aadb-449f-87bd-1359b829f20b",
   "metadata": {},
   "outputs": [],
   "source": []
  }
 ],
 "metadata": {
  "kernelspec": {
   "display_name": "Python 3 (ipykernel)",
   "language": "python",
   "name": "python3"
  },
  "language_info": {
   "codemirror_mode": {
    "name": "ipython",
    "version": 3
   },
   "file_extension": ".py",
   "mimetype": "text/x-python",
   "name": "python",
   "nbconvert_exporter": "python",
   "pygments_lexer": "ipython3",
   "version": "3.10.2"
  }
 },
 "nbformat": 4,
 "nbformat_minor": 5
}
