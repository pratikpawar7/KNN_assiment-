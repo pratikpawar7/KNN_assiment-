{
 "cells": [
  {
   "cell_type": "code",
   "execution_count": null,
   "id": "151a7b5b-07b1-4eaf-96df-08cd26e9b604",
   "metadata": {},
   "outputs": [],
   "source": [
    "'''\n",
    "Q1. Explain the concept of homogeneity and completeness in clustering evaluation. How are they\n",
    "calculated?\n",
    "'''\n",
    "Homogeneity and completeness are metrics used to evaluate clustering performance by comparing predicted clusters to true labels:\n",
    "\n",
    "Homogeneity: A cluster is homogeneous if all its members belong to the same true class.\n",
    "\n",
    "Completeness: A cluster is complete if all members of a true class are assigned to the same cluster.\n"
   ]
  },
  {
   "cell_type": "code",
   "execution_count": null,
   "id": "76c2595d-681b-44f3-946f-235af70e6508",
   "metadata": {},
   "outputs": [],
   "source": [
    "'''\n",
    "Q2. What is the V-measure in clustering evaluation? How is it related to homogeneity and completeness?\n",
    "'''\n",
    "V-measure is a clustering evaluation metric that combines homogeneity and completeness into a single score.\n",
    "It balances the two by taking their harmonic mean."
   ]
  },
  {
   "cell_type": "code",
   "execution_count": null,
   "id": "71e95cab-08dd-4f2f-b127-d5ddc6661ac2",
   "metadata": {},
   "outputs": [],
   "source": [
    "'''\n",
    "Q3. How is the Silhouette Coefficient used to evaluate the quality of a clustering result? What is the range\n",
    "of its values?\n",
    "'''\n",
    "\n",
    "The Silhouette Coefficient measures how similar data points are within their cluster compared to other clusters. \n",
    "It considers two factors:\n",
    "\n",
    "a of i : The average distance between a point and others in its cluster (cohesion).\n",
    "b of i : The average distance between a point and points in the nearest cluster (separation)."
   ]
  },
  {
   "cell_type": "code",
   "execution_count": null,
   "id": "209f1bbc-4ecc-4d31-8373-6ce4587dd028",
   "metadata": {},
   "outputs": [],
   "source": [
    "'''\n",
    "Q4. How is the Davies-Bouldin Index used to evaluate the quality of a clustering result? What is the range\n",
    "of its values?\n",
    "'''\n",
    "\n",
    "The Davies-Bouldin Index (DBI) evaluates clustering quality by comparing the ratio \n",
    "of within-cluster dispersion to between-cluster separation."
   ]
  },
  {
   "cell_type": "code",
   "execution_count": null,
   "id": "4be5fae2-2dd4-4f71-9eef-b32e62923660",
   "metadata": {},
   "outputs": [],
   "source": [
    "'''\n",
    "Q5. Can a clustering result have a high homogeneity but low completeness? Explain with an example.\n",
    "'''\n",
    "Yes, a clustering result can have high homogeneity but low completeness.\n",
    "\n",
    "High homogeneity: All points in a cluster belong to the same true class.\n",
    "Low completeness: Points from the same true class are spread across multiple clusters."
   ]
  },
  {
   "cell_type": "code",
   "execution_count": null,
   "id": "a0755dfc-79e4-4a94-b4b7-50326dbd943e",
   "metadata": {},
   "outputs": [],
   "source": [
    "'''\n",
    "Q6. How can the V-measure be used to determine the optimal number of clusters in a clustering\n",
    "algorithm?\n",
    "'''\n",
    "\n",
    "The V-measure can help determine the optimal number of clusters by evaluating both\n",
    "homogeneity and completeness as the number of clusters changes."
   ]
  },
  {
   "cell_type": "code",
   "execution_count": null,
   "id": "c70ea7ba-801e-4493-910a-7c04f8573aa1",
   "metadata": {},
   "outputs": [],
   "source": [
    "'''\n",
    "Q7. What are some advantages and disadvantages of using the Silhouette Coefficient to evaluate a\n",
    "clustering result?\n",
    "'''\n",
    "\n",
    "Advantages of the Silhouette Coefficient:\n",
    "\n",
    "Interpretable: Simple to understand as it measures cohesion (within-cluster similarity)\n",
    "                and separation (between-cluster difference).\n",
    "No true labels required: Useful for unsupervised clustering tasks.\n",
    "Works with any clustering algorithm.\n",
    "\n",
    "Disadvantages:\n",
    "                                                             \n",
    "Sensitive to noise/outliers: Outliers can skew the score.\n",
    "Computationally expensive:   In large datasets, calculating pairwise distances can be time-consuming.\n",
    "Not effective for complex shapes: Struggles with clusters that are not convex or spherical."
   ]
  },
  {
   "cell_type": "code",
   "execution_count": null,
   "id": "e2ab0700-b21d-46f8-85b5-2b2a75730ee4",
   "metadata": {},
   "outputs": [],
   "source": [
    "\n"
   ]
  },
  {
   "cell_type": "code",
   "execution_count": null,
   "id": "9acc8aa8-b72b-4800-bf76-1e06eef29546",
   "metadata": {},
   "outputs": [],
   "source": []
  },
  {
   "cell_type": "code",
   "execution_count": null,
   "id": "5febd086-60cf-45e4-bfd3-3883b766925a",
   "metadata": {},
   "outputs": [],
   "source": []
  },
  {
   "cell_type": "code",
   "execution_count": null,
   "id": "a1704b9c-629c-4ba4-abfd-0edf2faad2d1",
   "metadata": {},
   "outputs": [],
   "source": []
  }
 ],
 "metadata": {
  "kernelspec": {
   "display_name": "Python 3 (ipykernel)",
   "language": "python",
   "name": "python3"
  },
  "language_info": {
   "codemirror_mode": {
    "name": "ipython",
    "version": 3
   },
   "file_extension": ".py",
   "mimetype": "text/x-python",
   "name": "python",
   "nbconvert_exporter": "python",
   "pygments_lexer": "ipython3",
   "version": "3.10.2"
  }
 },
 "nbformat": 4,
 "nbformat_minor": 5
}
