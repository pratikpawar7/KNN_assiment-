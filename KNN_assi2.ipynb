{
 "cells": [
  {
   "cell_type": "code",
   "execution_count": null,
   "id": "0b570cae-cdec-4b5f-99d5-a28712cde677",
   "metadata": {},
   "outputs": [],
   "source": [
    "Q1. What is the main difference between the Euclidean distance metric and the Manhattan distance\n",
    "metric in KNN? How might this difference affect the performance of a KNN classifier or regressor?.\n",
    "\n",
    "    Euclidean Distance measures the straight-line distance between two points in space. \n",
    "\n",
    "    Manhattan Distance (or L1 distance) measures the sum of absolute differences between the coordinates of two points."
   ]
  },
  {
   "cell_type": "code",
   "execution_count": null,
   "id": "f9ab13e6-44a8-4825-8a37-0a1cf90d7982",
   "metadata": {},
   "outputs": [],
   "source": [
    "Q2. How do you choose the optimal value of k for a KNN classifier or regressor? What techniques can be\n",
    "used to determine the optimal k value?\n",
    "\n",
    "Ans:\n",
    "    \n",
    "    1. Cross-Validation:\n",
    "    2. Grid Search:\n",
    "    3. Heuristic Approach:\n",
    "    4. Avoid Overfitting and Underfitting:"
   ]
  },
  {
   "cell_type": "code",
   "execution_count": null,
   "id": "241d2636-bbfc-4670-85f2-6a360ad82d1a",
   "metadata": {},
   "outputs": [],
   "source": [
    "Q3. How does the choice of distance metric affect the performance of a KNN classifier or regressor? In\n",
    "what situations might you choose one distance metric over the other?\n",
    "\n",
    "Ans:\n",
    "\n",
    "    \n",
    "The choice of distance metric (e.g., Euclidean, Manhattan, Minkowski) affects how neighbors are\n",
    "selected in KNN, influencing the model's accuracy. Euclidean distance works well in continuous \n",
    "and low-dimensional data, while Manhattan distance is more robust in high-dimensional or \n",
    "grid-like data. In sparse or categorical data, Manhattan may perform better, while Euclidean i\n",
    " preferred when the data has strong linear relationships. T\n"
   ]
  },
  {
   "cell_type": "code",
   "execution_count": null,
   "id": "a510261c-77d6-42e6-a72d-904858a8d89c",
   "metadata": {},
   "outputs": [],
   "source": [
    "Q4. What are some common hyperparameters in KNN classifiers and regressors, and how do they affect\n",
    "the performance of the model? How might you go about tuning these hyperparameters to improve\n",
    "model performance?\n",
    "\n",
    "Ans:\n",
    "    \n",
    "1. Number of Neighbors (K):\n",
    "\n",
    "2. Distance Metric:\n",
    "\n",
    "3. Weighting Scheme:\n",
    "\n",
    "4. Algorithm Choice (Efficient Search Methods):"
   ]
  },
  {
   "cell_type": "code",
   "execution_count": null,
   "id": "373e686e-afc3-4395-9306-95f19e630e50",
   "metadata": {},
   "outputs": [],
   "source": [
    "Q5. How does the size of the training set affect the performance of a KNN classifier or regressor? What\n",
    "techniques can be used to optimize the size of the training set?\n",
    "\n",
    "\n",
    "\n",
    "1.Larger Training Set:\n",
    "    Improves Accuracy: With more data, the KNN model has more reference points to make better predictions,\n",
    "                     resulting in higher accuracy for classification and lower error for regression.\n",
    "    Increased Computation: KNN is a lazy learner, so the larger the training set, the more \n",
    "    computationally expensive the model becomes at prediction time, as distances need to be calculated for every point.\n",
    "\n",
    "2. Smaller Training Set:\n",
    "    Less Accurate: With fewer data points, KNN may lack sufficient neighbors to make reliable predictions, \n",
    "                    leading to underfitting.\n",
    "    Faster Predictions: Smaller training sets require less computational effort, but at the cost of reduced accuracy.\n"
   ]
  },
  {
   "cell_type": "code",
   "execution_count": null,
   "id": "f408aec5-f36d-4968-9635-ed12d4f15b3f",
   "metadata": {},
   "outputs": [],
   "source": [
    "Q6. What are some potential drawbacks of using KNN as a classifier or regressor? How might you\n",
    "overcome these drawbacks to improve the performance of the model?\n",
    "\n",
    "Ans:\n",
    "    \n",
    "Computationally Expensive: Slow for large datasets.\n",
    "Solution: Use KD-trees or Ball trees to speed up searches\n",
    "\n",
    "Sensitive to Irrelevant Features: May affect accuracy.\n",
    "Solution: Apply feature selection or PCA.\n",
    "\n",
    "Curse of Dimensionality: Poor performance in high dimensions.\n",
    "Solution: Use dimensionality reduction techniques like PCA.\n",
    "\n",
    "Sensitive to Data Scaling: Features with larger ranges dominate.\n",
    "Solution: Normalize or standardize features.\n",
    "\n",
    "Imbalanced Datasets: Majority class dominates.\n",
    "Solution: Use oversampling or class weighting.\n",
    "\n",
    "K Selection: Wrong K can lead to over/underfitting.\n",
    "Solution: Use cross-validation to find optimal K."
   ]
  },
  {
   "cell_type": "code",
   "execution_count": null,
   "id": "3aa8bb9b-41f7-45ed-b9ee-5900dc1f77f7",
   "metadata": {},
   "outputs": [],
   "source": []
  }
 ],
 "metadata": {
  "kernelspec": {
   "display_name": "Python 3 (ipykernel)",
   "language": "python",
   "name": "python3"
  },
  "language_info": {
   "codemirror_mode": {
    "name": "ipython",
    "version": 3
   },
   "file_extension": ".py",
   "mimetype": "text/x-python",
   "name": "python",
   "nbconvert_exporter": "python",
   "pygments_lexer": "ipython3",
   "version": "3.10.8"
  }
 },
 "nbformat": 4,
 "nbformat_minor": 5
}
