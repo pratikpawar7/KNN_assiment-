{
 "cells": [
  {
   "cell_type": "code",
   "execution_count": null,
   "id": "55c16ad3-50f0-4a8c-bf5c-2469aa5b5447",
   "metadata": {},
   "outputs": [],
   "source": [
    "Q1. What is the KNN algorithm?\n",
    "\n",
    "KNN is the machine learning algorithm used for classification and regression problem \n",
    "is used the concept of k nearest neighbour \n",
    "it uses the distance metrics and find the solution "
   ]
  },
  {
   "cell_type": "code",
   "execution_count": null,
   "id": "e78d157e-91d6-450c-b3a2-a563981608d7",
   "metadata": {},
   "outputs": [],
   "source": [
    "Q2. How do you choose the value of K in KNN? \n",
    "\n",
    "by doing the cross validation and findning the best performance value of k "
   ]
  },
  {
   "cell_type": "code",
   "execution_count": null,
   "id": "a1b0ee81-891c-4945-89ea-bf73c02567ec",
   "metadata": {},
   "outputs": [],
   "source": [
    "Q3. What is the difference between KNN classifier and KNN regressor?.\n",
    "\n",
    "Regression :\n",
    "    \n",
    "The KNN classifier is used for predicting discrete class labels (e.g., \"cat\" or \"dog\") \n",
    "by finding the K nearest neighbors and assigning the majority class among them.\n",
    "In contrast, the KNN regressor is used for predicting continuous values (e.g., predicting house prices) \n",
    "by averaging the values of the K nearest neighbors.\n",
    "\n",
    "\n",
    "classification :\n",
    "    \n",
    "For classification, KNN uses a voting mechanism to determine the most frequent class,\n",
    "while in regression, it calculates the mean (or weighted average) of the neighbors' \n",
    "values. The fundamental difference is that classification deals with categorical outcomes,\n",
    "while regression handles numeric predictions."
   ]
  },
  {
   "cell_type": "code",
   "execution_count": null,
   "id": "9fb9638f-d740-46fd-b94d-57edaba6e9f0",
   "metadata": {},
   "outputs": [],
   "source": [
    "Q4. How do you measure the performance of KNN?\n",
    "\n",
    "for the regression problem we use parameters like classification report  , confusion matrics , accuracy score \n",
    "\n",
    "for the classification problem we use mean squard error , absoult sqaured error , r squard error \n"
   ]
  },
  {
   "cell_type": "code",
   "execution_count": null,
   "id": "636c787a-63bd-4995-bb94-f6d582ed2dcc",
   "metadata": {},
   "outputs": [],
   "source": [
    "Q5. What is the curse of dimensionality in KNN?\n",
    "\n",
    "The curse of dimensionality in KNN refers to the challenges that arise when dealing \n",
    "with high-dimensional data. As the number of features (dimensions) increases,\n",
    "the distance between data points becomes less meaningful, and all points tend to \n",
    "appear similarly far from each other. \n",
    "This reduces the effectiveness of KNN, which relies on measuring distances to find the nearest neighbors."
   ]
  },
  {
   "cell_type": "code",
   "execution_count": null,
   "id": "63a195f8-ec2a-4697-a213-326ae705f4b4",
   "metadata": {},
   "outputs": [],
   "source": [
    "Q6. How do you handle missing values in KNN?\n",
    "\n",
    "Imputation: Replace missing values before applying KNN.\n",
    "\n",
    "Mean/Median imputation: \n",
    "Mode imputation: \n",
    "    \n",
    "KNN-based Imputation: Use a KNN algorithm to fill missing values. For each missing value,\n",
    "                        find the K nearest neighbors based on other available features, \n",
    "    then replace the missing value with the mean (for regression) or mode (for classification) of those neighbors.\n",
    "\n",
    "Removing missing data: If a small portion of data has missing values"
   ]
  },
  {
   "cell_type": "code",
   "execution_count": null,
   "id": "acfd13ae-8eff-41e2-a972-d3ec6dff6b5f",
   "metadata": {},
   "outputs": [],
   "source": [
    "Q7. Compare and contrast the performance of the KNN classifier and regressor. Which one is better for\n",
    "which type of problem?\n",
    "\n",
    "KNN Classifier:\n",
    "    \n",
    "Used for: Classification problems where the goal is to predict discrete labels (e.g., spam vs. not spam).\n",
    "Performance: Evaluated using accuracy, precision, recall, and F1-score. Works well when\n",
    "             class boundaries are well-defined.\n",
    "\n",
    "\n",
    "KNN Regressor:\n",
    "    \n",
    "Used for: Regression problems where the goal is to predict continuous values (e.g., house prices).\n",
    "Performance: Measured using metrics like Mean Squared Error (MSE), Mean Absolute Error (MAE), and R-squared."
   ]
  },
  {
   "cell_type": "code",
   "execution_count": null,
   "id": "24029945-3153-43d6-8cb9-7425a87653ca",
   "metadata": {},
   "outputs": [],
   "source": [
    "Q8. What are the strengths and weaknesses of the KNN algorithm for classification and regression tasks,\n",
    "and how can these be addressed?\n",
    "\n",
    "Strengths of KNN:\n",
    "    \n",
    "Simple and Intuitive: Easy to understand and implement, making it a great baseline algorithm.\n",
    "No Training Phase: KNN is a lazy learner, meaning there’s no explicit training phase, \n",
    "                   which can be useful for smaller datasets.\n",
    "Versatility: Works well for both classification and regression tasks.\n",
    "Adaptability:  Can be applied to both binary and multi-class classification, as well as continuous regression.\n",
    "\n",
    "\n",
    "Sensitive to the Value of K: Choosing the wrong K can lead to overfitting (small K) or underfitting (large K).\n",
    "\n",
    "Solution: Use cross-validation to determine the optimal K.\n",
    "Curse of Dimensionality: Performance degrades as the number of features increases,\n",
    "                        as distance metrics become less meaningful.\n",
    "\n",
    "Solution: Apply dimensionality reduction techniques or standardize/normalize the data to mitigate this."
   ]
  },
  {
   "cell_type": "code",
   "execution_count": null,
   "id": "f27ff191-4307-4509-b169-963f4a843632",
   "metadata": {},
   "outputs": [],
   "source": []
  },
  {
   "cell_type": "code",
   "execution_count": null,
   "id": "b0b06f93-4c4b-4e1e-a4d8-4762f4be040c",
   "metadata": {},
   "outputs": [],
   "source": []
  },
  {
   "cell_type": "code",
   "execution_count": null,
   "id": "8236918d-f850-4d23-8820-063687e6c779",
   "metadata": {},
   "outputs": [],
   "source": []
  },
  {
   "cell_type": "code",
   "execution_count": null,
   "id": "8dcd83cd-8dc0-4c2d-863e-d9904b0890ce",
   "metadata": {},
   "outputs": [],
   "source": []
  },
  {
   "cell_type": "code",
   "execution_count": null,
   "id": "f08d419c-0b84-44c2-926f-7164bb191a5d",
   "metadata": {},
   "outputs": [],
   "source": []
  },
  {
   "cell_type": "code",
   "execution_count": null,
   "id": "585d5c7f-0cde-449d-a6bf-df8407823cf4",
   "metadata": {},
   "outputs": [],
   "source": []
  },
  {
   "cell_type": "code",
   "execution_count": null,
   "id": "880fc5b8-517f-43c3-bbe8-fa6379bfb199",
   "metadata": {},
   "outputs": [],
   "source": []
  },
  {
   "cell_type": "code",
   "execution_count": null,
   "id": "00120f94-bf8a-42bd-acf7-e755e872eb12",
   "metadata": {},
   "outputs": [],
   "source": []
  },
  {
   "cell_type": "code",
   "execution_count": null,
   "id": "0d72b453-cade-4138-995c-3518d645f949",
   "metadata": {},
   "outputs": [],
   "source": []
  },
  {
   "cell_type": "code",
   "execution_count": null,
   "id": "9184c416-83e3-4225-bdf3-6a9c9c11f87d",
   "metadata": {},
   "outputs": [],
   "source": []
  },
  {
   "cell_type": "code",
   "execution_count": null,
   "id": "e1de8ddb-67f4-4c26-849a-17b8ee21265e",
   "metadata": {},
   "outputs": [],
   "source": []
  },
  {
   "cell_type": "code",
   "execution_count": null,
   "id": "a294ee04-493d-4012-aabe-e1dc82b8c469",
   "metadata": {},
   "outputs": [],
   "source": []
  },
  {
   "cell_type": "code",
   "execution_count": null,
   "id": "aa2e2ff4-d7f3-469b-b5f8-e73d2e1be5a5",
   "metadata": {},
   "outputs": [],
   "source": []
  }
 ],
 "metadata": {
  "kernelspec": {
   "display_name": "Python 3 (ipykernel)",
   "language": "python",
   "name": "python3"
  },
  "language_info": {
   "codemirror_mode": {
    "name": "ipython",
    "version": 3
   },
   "file_extension": ".py",
   "mimetype": "text/x-python",
   "name": "python",
   "nbconvert_exporter": "python",
   "pygments_lexer": "ipython3",
   "version": "3.10.8"
  }
 },
 "nbformat": 4,
 "nbformat_minor": 5
}
