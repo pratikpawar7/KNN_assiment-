{
 "cells": [
  {
   "cell_type": "code",
   "execution_count": null,
   "id": "3deff5fa-80f8-4888-93ae-f13659a35890",
   "metadata": {},
   "outputs": [],
   "source": [
    "'''\n",
    "Q1. What is the role of feature selection in anomaly detection?\n",
    "'''\n",
    "\n",
    "Feature selection helps improve anomaly detection by reducing irrelevant or \n",
    "noisy features, making it easier to identify abnormal patterns."
   ]
  },
  {
   "cell_type": "code",
   "execution_count": null,
   "id": "97587e0d-04d6-4fe7-a709-7c6b0adfe885",
   "metadata": {},
   "outputs": [],
   "source": [
    "'''\n",
    "Q2. What are some common evaluation metrics for anomaly detection algorithms and how are they computed?\n",
    "'''\n",
    "Precision: True Positives / (True Positives + False Positives)\n",
    "Recall: True Positives / (True Positives + False Negatives)\n",
    "F1-Score: Harmonic mean of precision and recall\n",
    "AUC-ROC: Measures the trade-off between True Positive Rate and False Positive Rate"
   ]
  },
  {
   "cell_type": "code",
   "execution_count": null,
   "id": "b6bfcacc-3c7e-4f5d-8a20-ad00e1b53caa",
   "metadata": {},
   "outputs": [],
   "source": [
    "'''\n",
    "Q3. What is DBSCAN and how does it work for clustering?\n",
    "'''\n",
    "\n",
    "DBSCAN (Density-Based Spatial Clustering of Applications with Noise) groups points\n",
    "that are closely packed together, marking points in sparse regions as outliers."
   ]
  },
  {
   "cell_type": "code",
   "execution_count": null,
   "id": "216d5d4a-6146-4d58-9555-a4e478c89f8c",
   "metadata": {},
   "outputs": [],
   "source": [
    "'''\n",
    "Q4. How does the epsilon parameter affect the performance of DBSCAN in detecting anomalies?\n",
    "'''\n",
    "The epsilon parameter defines the neighborhood size. \n",
    "A smaller epsilon detects more fine-grained clusters but may miss distant anomalies,\n",
    "while a larger epsilon detects fewer anomalies."
   ]
  },
  {
   "cell_type": "code",
   "execution_count": null,
   "id": "a7577d68-ac33-4e16-a4cc-2d673f85a6fe",
   "metadata": {},
   "outputs": [],
   "source": [
    "'''\n",
    "Q5. What are the differences between the core, border, and noise points in DBSCAN, and how do they relate to anomaly detection?\n",
    "'''\n",
    "Core points: points with at least minimum number of neighbours within a distance epsilon \n",
    "Border points: On the edge of a cluster but close to core points.\n",
    "Noise points: Isolated points, often treated as anomalies."
   ]
  },
  {
   "cell_type": "code",
   "execution_count": null,
   "id": "1e8b7ec1-a891-4f6e-9e6b-ccd6936b1fa7",
   "metadata": {},
   "outputs": [],
   "source": [
    "'''\n",
    "Q6. How does DBSCAN detect anomalies and what are the key parameters involved in the process?\n",
    "'''\n",
    "DBSCAN detects anomalies as noise points. \n",
    "Key parameters are epsilon (neighborhood size) and min_samples (minimum neighbors for core points).\n"
   ]
  },
  {
   "cell_type": "code",
   "execution_count": null,
   "id": "289cc56f-7fc2-4d45-8ea4-9fcf038db631",
   "metadata": {},
   "outputs": [],
   "source": [
    "'''\n",
    "Q7. What is the make_circles package in scikit-learn used for?\n",
    "'''\n",
    "The make_circles function generates circular, 2D synthetic data, useful for testing clustering and classification algorithms.\n",
    "IN DBSACN algorithium.\n"
   ]
  },
  {
   "cell_type": "code",
   "execution_count": null,
   "id": "558aca22-45ae-43f3-92f9-ef541fea6faf",
   "metadata": {},
   "outputs": [],
   "source": [
    "'''\n",
    "Q8. What are local outliers and global outliers, and how do they differ from each other?\n",
    "'''\n",
    "Local outliers: Deviate only in a small, local neighborhood.\n",
    "Global outliers: Deviate from the entire dataset."
   ]
  },
  {
   "cell_type": "code",
   "execution_count": null,
   "id": "886c3f21-ec43-48a5-9746-ede16c7010aa",
   "metadata": {},
   "outputs": [],
   "source": [
    "'''\n",
    "Q9. How can local outliers be detected using the Local Outlier Factor (LOF) algorithm?\n",
    "'''\n",
    "LOF detects local outliers by comparing the density of a point to its neighbors. \n",
    "Points with significantly lower density are considered local outliers.\n"
   ]
  },
  {
   "cell_type": "code",
   "execution_count": null,
   "id": "3a509a25-d244-41f3-a55c-b5e3a3fc8ccc",
   "metadata": {},
   "outputs": [],
   "source": [
    "'''\n",
    "Q10. How can global outliers be detected using the Isolation Forest algorithm?\n",
    "'''\n",
    "Isolation Forest detects global outliers by isolating points that require fewer\n",
    "splits to separate from the rest of the data, indicating they are anomalies.\n"
   ]
  },
  {
   "cell_type": "code",
   "execution_count": null,
   "id": "c896f667-47ba-4ce0-ad60-be5980f23b03",
   "metadata": {},
   "outputs": [],
   "source": [
    "'''\n",
    "Q11. What are some real-world applications where local outlier detection is more appropriate \n",
    "than global outlier detection, and vice versa?\n",
    "'''\n",
    "\n",
    "Local outliers: Network intrusion detection, credit card fraud (sensitive to local behavior).\n",
    "Global outliers: Detecting equipment failure, environmental monitoring (deviates from the overall data)."
   ]
  },
  {
   "cell_type": "code",
   "execution_count": null,
   "id": "97222717-c06a-439e-a41f-28b5d8fb06e6",
   "metadata": {},
   "outputs": [],
   "source": []
  }
 ],
 "metadata": {
  "kernelspec": {
   "display_name": "Python 3 (ipykernel)",
   "language": "python",
   "name": "python3"
  },
  "language_info": {
   "codemirror_mode": {
    "name": "ipython",
    "version": 3
   },
   "file_extension": ".py",
   "mimetype": "text/x-python",
   "name": "python",
   "nbconvert_exporter": "python",
   "pygments_lexer": "ipython3",
   "version": "3.10.2"
  }
 },
 "nbformat": 4,
 "nbformat_minor": 5
}
